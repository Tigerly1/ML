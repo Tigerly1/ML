{
 "cells": [
  {
   "cell_type": "code",
   "execution_count": 1,
   "id": "7b40c580-640f-4e68-af19-c482f3f31c63",
   "metadata": {},
   "outputs": [],
   "source": [
    "from sklearn import datasets\n",
    "data_breast_cancer = datasets.load_breast_cancer()\n",
    "from sklearn.datasets import load_iris \n",
    "data_iris = load_iris()"
   ]
  },
  {
   "cell_type": "code",
   "execution_count": 57,
   "id": "c00e55dc-dacd-4dff-b814-5ad3dc5827c2",
   "metadata": {},
   "outputs": [],
   "source": [
    "import numpy as np"
   ]
  },
  {
   "cell_type": "code",
   "execution_count": 3,
   "id": "28b17113-3d17-4d17-a674-61c2cf756402",
   "metadata": {},
   "outputs": [],
   "source": [
    "X_breast = data_breast_cancer.data\n",
    "y_breast = data_breast_cancer.target\n",
    "X_iris = data_iris.data\n",
    "y_iris = data_iris.target"
   ]
  },
  {
   "cell_type": "code",
   "execution_count": 42,
   "id": "4abebd70-df2f-4f3d-a8ab-d8c72ae25235",
   "metadata": {},
   "outputs": [
    {
     "name": "stdout",
     "output_type": "stream",
     "text": [
      "[0.92461872]\n"
     ]
    }
   ],
   "source": [
    "from sklearn.decomposition import PCA\n",
    "pca = PCA(n_components=0.9)\n",
    "X2D = pca.fit(X_iris)\n",
    "print(pca.explained_variance_ratio_)\n"
   ]
  },
  {
   "cell_type": "code",
   "execution_count": 43,
   "id": "ea70ca0e-650e-441a-9dee-ab5a1cc51fbb",
   "metadata": {},
   "outputs": [
    {
     "name": "stdout",
     "output_type": "stream",
     "text": [
      "[0.98204467]\n"
     ]
    }
   ],
   "source": [
    "pca = PCA(n_components=0.9)\n",
    "X2D = pca.fit(X_breast)\n",
    "print(pca.explained_variance_ratio_)"
   ]
  },
  {
   "cell_type": "code",
   "execution_count": 53,
   "id": "4f7e3a7e-c13b-4588-9ece-b50c167c711d",
   "metadata": {},
   "outputs": [
    {
     "data": {
      "text/plain": [
       "array([[ 5.08623202e-03,  2.19657026e-03,  3.50763298e-02,\n",
       "         5.16826469e-01,  4.23694535e-06,  4.05260047e-05,\n",
       "         8.19399539e-05,  4.77807775e-05,  7.07804332e-06,\n",
       "        -2.62155251e-06,  3.13742507e-04, -6.50984008e-05,\n",
       "         2.23634150e-03,  5.57271669e-02, -8.05646029e-07,\n",
       "         5.51918197e-06,  8.87094462e-06,  3.27915009e-06,\n",
       "        -1.24101836e-06, -8.54530832e-08,  7.15473257e-03,\n",
       "         3.06736622e-03,  4.94576447e-02,  8.52063392e-01,\n",
       "         6.42005481e-06,  1.01275937e-04,  1.68928625e-04,\n",
       "         7.36658178e-05,  1.78986262e-05,  1.61356159e-06]])"
      ]
     },
     "execution_count": 53,
     "metadata": {},
     "output_type": "execute_result"
    }
   ],
   "source": [
    "pca.components_"
   ]
  },
  {
   "cell_type": "code",
   "execution_count": 86,
   "id": "eb5aeebb-b681-4166-9609-3021accf0b3d",
   "metadata": {},
   "outputs": [
    {
     "name": "stdout",
     "output_type": "stream",
     "text": [
      "[0.72962445 0.22850762]\n"
     ]
    }
   ],
   "source": [
    "from sklearn.preprocessing import StandardScaler\n",
    "scaler = StandardScaler()\n",
    "transformed_X_iris = scaler.fit_transform(X_iris)\n",
    "pca_ir = PCA(n_components=0.9)\n",
    "X2D_ir = pca_ir.fit_transform(transformed_X_iris)\n",
    "print(pca_ir.explained_variance_ratio_)\n",
    "pca_evr = pca_ir.explained_variance_ratio_"
   ]
  },
  {
   "cell_type": "code",
   "execution_count": null,
   "id": "45fc48de-3378-48ba-b498-7c139a27b0f9",
   "metadata": {},
   "outputs": [],
   "source": [
    "import pickle\n",
    "pickle.dump(pca_evr, open(\"pca_ir.pkl\", \"wb\"))"
   ]
  },
  {
   "cell_type": "code",
   "execution_count": 87,
   "id": "523c603e-1d83-4f4c-9304-d599aa222589",
   "metadata": {},
   "outputs": [
    {
     "name": "stdout",
     "output_type": "stream",
     "text": [
      "[0.44272026 0.18971182 0.09393163 0.06602135 0.05495768 0.04024522\n",
      " 0.02250734]\n"
     ]
    }
   ],
   "source": [
    "from sklearn.preprocessing import StandardScaler\n",
    "scaler = StandardScaler()\n",
    "transformed_X_breast = scaler.fit_transform(X_breast)\n",
    "pca_br = PCA(n_components=0.9)\n",
    "X2D_br = pca_br.fit_transform(transformed_X_breast)\n",
    "print(pca_br.explained_variance_ratio_)\n",
    "pca_evr = pca_br.explained_variance_ratio_"
   ]
  },
  {
   "cell_type": "code",
   "execution_count": null,
   "id": "cf2922aa-6039-4317-9ee7-7228796150d3",
   "metadata": {},
   "outputs": [],
   "source": [
    "pickle.dump(pca_evr, open(\"pca_bc.pkl\", \"wb\"))"
   ]
  },
  {
   "cell_type": "code",
   "execution_count": 91,
   "id": "65d89e9e-b291-4af2-a830-e24ba75a0e63",
   "metadata": {},
   "outputs": [
    {
     "data": {
      "text/plain": [
       "[7, 9, 11, 21, 4, 28, 29]"
      ]
     },
     "execution_count": 91,
     "metadata": {},
     "output_type": "execute_result"
    }
   ],
   "source": [
    "idx_bc = [ np.where(x==max(x))[0][0] for x in abs(pca_br.components_)]"
   ]
  },
  {
   "cell_type": "code",
   "execution_count": null,
   "id": "5b5f0ba0-c359-4a1c-9188-0419b538b84c",
   "metadata": {},
   "outputs": [],
   "source": [
    "pickle.dump(idx_bc, open(\"idx_bc.pkl\", \"wb\"))"
   ]
  },
  {
   "cell_type": "code",
   "execution_count": 92,
   "id": "fa3b6fbc-ae93-4fc7-b723-94b0e6c2e30c",
   "metadata": {},
   "outputs": [
    {
     "data": {
      "text/plain": [
       "[2, 1]"
      ]
     },
     "execution_count": 92,
     "metadata": {},
     "output_type": "execute_result"
    }
   ],
   "source": [
    "idx_ir = [ np.where(x==max(x))[0][0] for x in abs(pca_ir.components_)]"
   ]
  },
  {
   "cell_type": "code",
   "execution_count": null,
   "id": "43886368-0283-430f-ab67-1c40c3b300fa",
   "metadata": {},
   "outputs": [],
   "source": [
    "pickle.dump(idx_ir, open(\"idx_ir.pkl\", \"wb\"))"
   ]
  },
  {
   "cell_type": "code",
   "execution_count": null,
   "id": "c98be9f3-a635-4875-8789-6c5d1649cc1c",
   "metadata": {},
   "outputs": [],
   "source": []
  },
  {
   "cell_type": "code",
   "execution_count": 71,
   "id": "54f3f7f7-6415-4014-b72c-c57a443e30c1",
   "metadata": {},
   "outputs": [
    {
     "data": {
      "text/plain": [
       "<matplotlib.collections.PathCollection at 0x17d7c9e80>"
      ]
     },
     "execution_count": 71,
     "metadata": {},
     "output_type": "execute_result"
    },
    {
     "data": {
      "image/png": "[encoded data removed]",
      "text/plain": [
       "<Figure size 432x288 with 1 Axes>"
      ]
     },
     "metadata": {
      "needs_background": "light"
     },
     "output_type": "display_data"
    }
   ],
   "source": [
    "import matplotlib.pyplot as plot\n",
    "plot.scatter(transformed_X_breast[:,7], X2D_br[:,0]) "
   ]
  },
  {
   "cell_type": "code",
   "execution_count": 74,
   "id": "377ee67b-e820-4375-a3a2-8f0e04a5d1e4",
   "metadata": {},
   "outputs": [
    {
     "data": {
      "text/plain": [
       "<matplotlib.collections.PathCollection at 0x17d811dc0>"
      ]
     },
     "execution_count": 74,
     "metadata": {},
     "output_type": "execute_result"
    },
    {
     "data": {
      "image/png": "[encoded data removed]",
      "text/plain": [
       "<Figure size 432x288 with 1 Axes>"
      ]
     },
     "metadata": {
      "needs_background": "light"
     },
     "output_type": "display_data"
    }
   ],
   "source": [
    "import matplotlib.pyplot as plot\n",
    "plot.scatter(transformed_X_iris[:,2], X2D_ir[:,0]) "
   ]
  }
 ],
 "metadata": {
  "kernelspec": {
   "display_name": "Python 3 (ipykernel)",
   "language": "python",
   "name": "python3"
  },
  "language_info": {
   "codemirror_mode": {
    "name": "ipython",
    "version": 3
   },
   "file_extension": ".py",
   "mimetype": "text/x-python",
   "name": "python",
   "nbconvert_exporter": "python",
   "pygments_lexer": "ipython3",
   "version": "3.9.10"
  }
 },
 "nbformat": 4,
 "nbformat_minor": 5
}
