{
 "cells": [
  {
   "cell_type": "code",
   "execution_count": null,
   "id": "5c2909ef-848b-4042-be3a-4a26a9d1e6b6",
   "metadata": {
    "pycharm": {
     "is_executing": true
    }
   },
   "outputs": [],
   "source": [
    "from sklearn.datasets import fetch_openml\n",
    "import numpy as np\n",
    "import pandas as pd\n",
    "mnist = fetch_openml('mnist_784', version=1)"
   ]
  },
  {
   "cell_type": "markdown",
   "source": [
    "### Poprawne zbiory danych +97% acc"
   ],
   "metadata": {
    "collapsed": false
   }
  },
  {
   "cell_type": "code",
   "execution_count": 37,
   "outputs": [
    {
     "name": "stdout",
     "output_type": "stream",
     "text": [
      "(56000, 784) (56000,) (14000, 784) (14000,)\n"
     ]
    }
   ],
   "source": [
    "from sklearn.model_selection import train_test_split\n",
    "X, y = mnist.data, mnist.target.astype(np.uint8)\n",
    "X_train, X_test, y_train, y_test = train_test_split(X, y, test_size=0.2, shuffle=False)\n",
    "print(X_train.shape, y_train.shape, X_test.shape, y_test.shape)\n"
   ],
   "metadata": {
    "collapsed": false,
    "pycharm": {
     "name": "#%%\n"
    }
   }
  },
  {
   "cell_type": "code",
   "execution_count": 38,
   "id": "1195027a-a143-4537-a347-d0c571341282",
   "metadata": {},
   "outputs": [
    {
     "data": {
      "text/plain": "(array([0, 1, 2, 3, 4, 5, 6, 7, 8, 9], dtype=uint8),\n array([0, 1, 2, 3, 4, 5, 6, 7, 8, 9], dtype=uint8))"
     },
     "execution_count": 38,
     "metadata": {},
     "output_type": "execute_result"
    }
   ],
   "source": [
    "pd.unique(y_train.sort_values()), pd.unique(y_test.sort_values())"
   ]
  },
  {
   "cell_type": "code",
   "execution_count": 40,
   "id": "05ef214a-353b-4501-926b-64512aa020de",
   "metadata": {},
   "outputs": [
    {
     "data": {
      "text/plain": "SGDClassifier(random_state=42)"
     },
     "execution_count": 40,
     "metadata": {},
     "output_type": "execute_result"
    }
   ],
   "source": [
    "from sklearn.linear_model import SGDClassifier\n",
    "y_train_0 = (y_train == 0)\n",
    "y_test_0 = (y_test == 0)\n",
    "sgd_clf = SGDClassifier(random_state=42)\n",
    "sgd_clf.fit(X_train, y_train_0)\n"
   ]
  },
  {
   "cell_type": "code",
   "execution_count": 42,
   "outputs": [
    {
     "data": {
      "text/plain": "(0.9901964285714285, 0.9877857142857143)"
     },
     "execution_count": 42,
     "metadata": {},
     "output_type": "execute_result"
    }
   ],
   "source": [
    "sgd_clf.score(X_train, y_train_0), sgd_clf.score(X_test, y_test_0)"
   ],
   "metadata": {
    "collapsed": false,
    "pycharm": {
     "name": "#%%\n"
    }
   }
  },
  {
   "cell_type": "code",
   "execution_count": 44,
   "id": "2161df81-3249-4674-bea8-d618d79177f6",
   "metadata": {},
   "outputs": [],
   "source": [
    "import pickle\n",
    "pickle.dump([sgd_clf.score(X_train, y_train_0), sgd_clf.score(X_test, y_test_0)], open(\"sgd_acc.pkl\", \"wb\"))"
   ]
  },
  {
   "cell_type": "code",
   "execution_count": 50,
   "id": "e496de75-ac25-4fac-a66a-20aa209ead4b",
   "metadata": {},
   "outputs": [],
   "source": [
    "from sklearn.model_selection import cross_val_score, cross_val_predict\n",
    "from sklearn.metrics import confusion_matrix\n"
   ]
  },
  {
   "cell_type": "code",
   "execution_count": 47,
   "id": "fedb118e-c25f-4bb5-9993-82d1a6d76af9",
   "metadata": {},
   "outputs": [
    {
     "data": {
      "text/plain": "array([0.98650024, 0.98950019, 0.98542805])"
     },
     "execution_count": 47,
     "metadata": {},
     "output_type": "execute_result"
    }
   ],
   "source": [
    "y_train_score = cross_val_score(sgd_clf, X_train, y_train_0, cv=3, n_jobs=-1)\n",
    "y_train_score"
   ]
  },
  {
   "cell_type": "code",
   "execution_count": 48,
   "id": "d02453a1-abe7-4538-a6d7-7ca13d4e9e01",
   "metadata": {},
   "outputs": [],
   "source": [
    "pickle.dump(y_train_score, open(\"sgd_cva.pkl\", \"wb\"))"
   ]
  },
  {
   "cell_type": "code",
   "execution_count": 52,
   "id": "c189944f-3e72-4d73-829b-2561d184f83b",
   "metadata": {},
   "outputs": [
    {
     "data": {
      "text/plain": "SGDClassifier(random_state=42)"
     },
     "execution_count": 52,
     "metadata": {},
     "output_type": "execute_result"
    }
   ],
   "source": [
    "sgd_clf_all = SGDClassifier(random_state=42)\n",
    "sgd_clf_all.fit(X_train, y_train)\n"
   ]
  },
  {
   "cell_type": "code",
   "execution_count": 53,
   "id": "be5e339f-8cf7-4f2d-9779-133e86c38e3f",
   "metadata": {},
   "outputs": [
    {
     "data": {
      "text/plain": "array([3, 0, 4, ..., 2, 6, 8], dtype=uint8)"
     },
     "execution_count": 53,
     "metadata": {},
     "output_type": "execute_result"
    }
   ],
   "source": [
    "y_train_predict_all = cross_val_predict(sgd_clf_all, X_train, y_train, cv=3, n_jobs=-1)\n",
    "y_train_predict_all"
   ]
  },
  {
   "cell_type": "code",
   "execution_count": 54,
   "id": "7936d8e2-dbe9-41ac-8a3a-5b8d486b5d75",
   "metadata": {},
   "outputs": [
    {
     "data": {
      "text/plain": "array([[5297,    0,   53,   24,    9,   25,   53,    2,   56,   11],\n       [   3, 6078,   64,   54,    8,   14,    9,   19,   48,   11],\n       [  55,   67, 4669,  246,   53,   26,  101,   85,  247,   11],\n       [  42,   15,  170, 4884,   14,  152,   31,   65,  308,   47],\n       [  10,   31,   62,   31, 4918,   20,   60,   33,  159,  124],\n       [  97,   28,   68,  369,  102, 3766,  168,   22,  364,   76],\n       [  54,   16,   83,   19,   58,   46, 5203,    3,   54,    1],\n       [  20,   20,   70,  105,   72,   11,    6, 5271,   79,  156],\n       [  81,  129,  151,  385,   61,  110,   64,   35, 4382,   62],\n       [  44,   30,   32,  129,  415,   47,    1,  376,  274, 4211]],\n      dtype=int64)"
     },
     "execution_count": 54,
     "metadata": {},
     "output_type": "execute_result"
    }
   ],
   "source": [
    "conf_mx = confusion_matrix(y_train, y_train_predict_all)\n",
    "conf_mx"
   ]
  },
  {
   "cell_type": "code",
   "execution_count": null,
   "id": "3575f6f2-466d-46f6-830b-bc2d0d4186cd",
   "metadata": {},
   "outputs": [],
   "source": [
    "pickle.dump(conf_mx, open(\"sgd_cmx.pkl\", \"wb\"))"
   ]
  }
 ],
 "metadata": {
  "kernelspec": {
   "display_name": "Python 3 (ipykernel)",
   "language": "python",
   "name": "python3"
  },
  "language_info": {
   "codemirror_mode": {
    "name": "ipython",
    "version": 3
   },
   "file_extension": ".py",
   "mimetype": "text/x-python",
   "name": "python",
   "nbconvert_exporter": "python",
   "pygments_lexer": "ipython3",
   "version": "3.9.7"
  }
 },
 "nbformat": 4,
 "nbformat_minor": 5
}