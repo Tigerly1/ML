{
 "cells": [
  {
   "cell_type": "code",
   "execution_count": 257,
   "metadata": {},
   "outputs": [],
   "source": [
    "#!/usr/bin/env python\n",
    "# coding: utf-8"
   ]
  },
  {
   "cell_type": "markdown",
   "metadata": {},
   "source": [
    "In[7]:"
   ]
  },
  {
   "cell_type": "code",
   "execution_count": 258,
   "metadata": {},
   "outputs": [
    {
     "data": {
      "text/plain": [
       "<AxesSubplot:xlabel='x', ylabel='y'>"
      ]
     },
     "execution_count": 258,
     "metadata": {},
     "output_type": "execute_result"
    },
    {
     "data": {
      "image/png": "[encoded data removed]",
      "text/plain": [
       "<Figure size 432x288 with 1 Axes>"
      ]
     },
     "metadata": {
      "needs_background": "light"
     },
     "output_type": "display_data"
    }
   ],
   "source": [
    "import numpy as np\n",
    "import pandas as pd\n",
    "size = 300\n",
    "X = np.random.rand(size)*5-2.5\n",
    "w4, w3, w2, w1, w0 = 1, 2, 1, -4, 2\n",
    "y = w4*(X**4) + w3*(X**3) + w2*(X**2) + w1*X + w0 + np.random.randn(size)*8-4\n",
    "df = pd.DataFrame({'x': X, 'y': y}) \n",
    "df.to_csv('dane_do_regresji.csv',index=None)\n",
    "df.plot.scatter(x='x',y='y')"
   ]
  },
  {
   "cell_type": "code",
   "execution_count": 259,
   "metadata": {},
   "outputs": [],
   "source": [
    "from sklearn.model_selection import train_test_split\n",
    "X_train, X_test, y_train, y_test = train_test_split(df[['x']], df[['y']], test_size=0.2, shuffle=False)"
   ]
  },
  {
   "cell_type": "code",
   "execution_count": 260,
   "metadata": {
    "pycharm": {
     "name": "#%%\n"
    }
   },
   "outputs": [
    {
     "data": {
      "text/html": [
       "<div>\n",
       "<style scoped>\n",
       "    .dataframe tbody tr th:only-of-type {\n",
       "        vertical-align: middle;\n",
       "    }\n",
       "\n",
       "    .dataframe tbody tr th {\n",
       "        vertical-align: top;\n",
       "    }\n",
       "\n",
       "    .dataframe thead th {\n",
       "        text-align: right;\n",
       "    }\n",
       "</style>\n",
       "<table border=\"1\" class=\"dataframe\">\n",
       "  <thead>\n",
       "    <tr style=\"text-align: right;\">\n",
       "      <th></th>\n",
       "      <th>train_mse</th>\n",
       "      <th>test_mse</th>\n",
       "    </tr>\n",
       "  </thead>\n",
       "  <tbody>\n",
       "  </tbody>\n",
       "</table>\n",
       "</div>"
      ],
      "text/plain": [
       "Empty DataFrame\n",
       "Columns: [train_mse, test_mse]\n",
       "Index: []"
      ]
     },
     "execution_count": 260,
     "metadata": {},
     "output_type": "execute_result"
    }
   ],
   "source": [
    "df_mse_score = pd.DataFrame(None, columns = [\"train_mse\", \"test_mse\"])\n",
    "df_mse_score"
   ]
  },
  {
   "cell_type": "code",
   "execution_count": 261,
   "metadata": {
    "pycharm": {
     "name": "#%%\n"
    }
   },
   "outputs": [],
   "source": [
    "regressors = []"
   ]
  },
  {
   "cell_type": "markdown",
   "metadata": {},
   "source": [
    "# Linear Regression"
   ]
  },
  {
   "cell_type": "markdown",
   "metadata": {},
   "source": [
    "In[73]:"
   ]
  },
  {
   "cell_type": "code",
   "execution_count": 262,
   "metadata": {},
   "outputs": [
    {
     "data": {
      "text/plain": [
       "LinearRegression()"
      ]
     },
     "execution_count": 262,
     "metadata": {},
     "output_type": "execute_result"
    }
   ],
   "source": [
    "from sklearn.linear_model import LinearRegression\n",
    "lin_reg = LinearRegression()\n",
    "lin_reg.fit(X_train, y_train)"
   ]
  },
  {
   "cell_type": "markdown",
   "metadata": {},
   "source": [
    "In[74]:"
   ]
  },
  {
   "cell_type": "code",
   "execution_count": 263,
   "metadata": {},
   "outputs": [
    {
     "data": {
      "text/plain": [
       "(array([ 3.77870126,  2.88212568,  5.90520715,  5.86130006,  8.01659374,\n",
       "         7.8331745 , 10.65008263,  6.05287558,  7.95114611,  4.66289964,\n",
       "        11.00888869,  6.82524223, 11.24677793,  4.3657681 , 10.10220443,\n",
       "         9.52272081,  8.55586666,  5.92528488, 10.42733735,  2.55269694,\n",
       "         3.66372746,  6.4887989 ,  5.4049398 ,  3.75197062,  9.01648041,\n",
       "         9.66139919,  2.40192745,  5.34309601, 10.51457306,  3.44919499,\n",
       "        10.8160885 , 10.82462397,  4.09945039, 10.03485881, 10.37373483,\n",
       "         5.69284974,  8.74540923,  9.65179468,  6.50055988,  8.98656133,\n",
       "         6.96595857,  9.99639999,  4.75936535,  7.05377071, 10.28804869,\n",
       "         4.16439879,  9.89436568, 10.3739896 ,  7.42494846,  5.34413663,\n",
       "         5.56747282,  6.61847151,  8.5822979 ,  2.37464378,  5.86446884,\n",
       "         7.12312002,  2.57399931,  4.69122652, 10.60986049, 11.27336269]),\n",
       " array([-1.625624  , -2.1089579 , -0.47924838, -0.50291821,  0.65897659,\n",
       "         0.56009732,  2.07866109, -0.39964198,  0.6236945 , -1.14896252,\n",
       "         2.27208943,  0.01673227,  2.40033287, -1.30914281,  1.78330606,\n",
       "         1.4709129 ,  0.94969261, -0.46842471,  1.95858159, -2.28654926,\n",
       "        -1.6876051 , -0.16464058, -0.74893693, -1.64003419,  1.19800434,\n",
       "         1.54567287, -2.36782742, -0.78227623,  2.00560939, -1.80325716,\n",
       "         2.168153  ,  2.17275438, -1.45271172,  1.74700079,  1.92968507,\n",
       "        -0.5937279 ,  1.05187289,  1.54049518, -0.15830036,  1.1818753 ,\n",
       "         0.09259088,  1.72626807, -1.09695893,  0.13992943,  1.88349263,\n",
       "        -1.41769876,  1.67126251,  1.92982242,  0.34002721, -0.78171525,\n",
       "        -0.6613172 , -0.09473552,  0.96394139, -2.38253574, -0.50120995,\n",
       "         0.17731486, -2.27506539, -1.13369181,  2.05697778,  2.41466442]))"
      ]
     },
     "execution_count": 263,
     "metadata": {},
     "output_type": "execute_result"
    }
   ],
   "source": [
    "lin_reg.predict(X_test).reshape(1,-1)[0], X_test.values.reshape(1,-1)[0]"
   ]
  },
  {
   "cell_type": "markdown",
   "metadata": {},
   "source": [
    "In[93]:"
   ]
  },
  {
   "cell_type": "code",
   "execution_count": 264,
   "metadata": {},
   "outputs": [
    {
     "data": {
      "text/plain": [
       "<AxesSubplot:xlabel='x', ylabel='y'>"
      ]
     },
     "execution_count": 264,
     "metadata": {},
     "output_type": "execute_result"
    },
    {
     "data": {
      "image/png": "[encoded data removed]",
      "text/plain": [
       "<Figure size 432x288 with 1 Axes>"
      ]
     },
     "metadata": {
      "needs_background": "light"
     },
     "output_type": "display_data"
    }
   ],
   "source": [
    "lin_predict_test = lin_reg.predict(X_test)\n",
    "lin_predict_train = lin_reg.predict(X_train)\n",
    "df2 = pd.DataFrame({'x':X_test.values.reshape(1,-1)[0], 'y':lin_predict_test.reshape(1,-1)[0]})\n",
    "df2.plot.scatter(x='x',y='y')"
   ]
  },
  {
   "cell_type": "markdown",
   "metadata": {},
   "source": [
    "In[95]:"
   ]
  },
  {
   "cell_type": "code",
   "execution_count": 265,
   "metadata": {},
   "outputs": [],
   "source": [
    "from sklearn.metrics import mean_squared_error\n",
    "test_mse_lin = mean_squared_error(y_test, lin_predict_test)\n",
    "train_mse_lin = mean_squared_error(y_train, lin_predict_train)"
   ]
  },
  {
   "cell_type": "code",
   "execution_count": 266,
   "metadata": {},
   "outputs": [
    {
     "data": {
      "text/plain": [
       "(238.35154334034593, 208.5403703512533)"
      ]
     },
     "execution_count": 266,
     "metadata": {},
     "output_type": "execute_result"
    }
   ],
   "source": [
    "test_mse_lin, train_mse_lin"
   ]
  },
  {
   "cell_type": "code",
   "execution_count": 267,
   "metadata": {
    "pycharm": {
     "name": "#%%\n"
    }
   },
   "outputs": [
    {
     "data": {
      "text/html": [
       "<div>\n",
       "<style scoped>\n",
       "    .dataframe tbody tr th:only-of-type {\n",
       "        vertical-align: middle;\n",
       "    }\n",
       "\n",
       "    .dataframe tbody tr th {\n",
       "        vertical-align: top;\n",
       "    }\n",
       "\n",
       "    .dataframe thead th {\n",
       "        text-align: right;\n",
       "    }\n",
       "</style>\n",
       "<table border=\"1\" class=\"dataframe\">\n",
       "  <thead>\n",
       "    <tr style=\"text-align: right;\">\n",
       "      <th></th>\n",
       "      <th>train_mse</th>\n",
       "      <th>test_mse</th>\n",
       "    </tr>\n",
       "  </thead>\n",
       "  <tbody>\n",
       "    <tr>\n",
       "      <th>lin_reg</th>\n",
       "      <td>208.54037</td>\n",
       "      <td>238.351543</td>\n",
       "    </tr>\n",
       "  </tbody>\n",
       "</table>\n",
       "</div>"
      ],
      "text/plain": [
       "         train_mse    test_mse\n",
       "lin_reg  208.54037  238.351543"
      ]
     },
     "execution_count": 267,
     "metadata": {},
     "output_type": "execute_result"
    }
   ],
   "source": [
    "df_mse_score.loc[\"lin_reg\", \"train_mse\"] = train_mse_lin\n",
    "df_mse_score.loc[\"lin_reg\", \"test_mse\"] = test_mse_lin\n",
    "df_mse_score"
   ]
  },
  {
   "cell_type": "code",
   "execution_count": 268,
   "metadata": {
    "pycharm": {
     "name": "#%%\n"
    }
   },
   "outputs": [],
   "source": [
    "regressors.append((lin_reg, None))"
   ]
  },
  {
   "cell_type": "markdown",
   "metadata": {},
   "source": [
    "# KNN 3"
   ]
  },
  {
   "cell_type": "markdown",
   "metadata": {},
   "source": [
    "In[98]:"
   ]
  },
  {
   "cell_type": "code",
   "execution_count": 269,
   "metadata": {},
   "outputs": [],
   "source": [
    "import sklearn.neighbors\n",
    "knn_reg = sklearn.neighbors.KNeighborsRegressor(n_neighbors=3)\n",
    "knn_reg.fit(X_train, y_train)\n",
    "knn_predict_test = knn_reg.predict(X_test)\n",
    "knn_predict_train = knn_reg.predict(X_train)"
   ]
  },
  {
   "cell_type": "markdown",
   "metadata": {},
   "source": [
    "In[90]:"
   ]
  },
  {
   "cell_type": "code",
   "execution_count": 270,
   "metadata": {},
   "outputs": [
    {
     "data": {
      "text/plain": [
       "<AxesSubplot:xlabel='x', ylabel='y'>"
      ]
     },
     "execution_count": 270,
     "metadata": {},
     "output_type": "execute_result"
    },
    {
     "data": {
      "image/png": "[encoded data removed]",
      "text/plain": [
       "<Figure size 432x288 with 1 Axes>"
      ]
     },
     "metadata": {
      "needs_background": "light"
     },
     "output_type": "display_data"
    }
   ],
   "source": [
    "df3 = pd.DataFrame({'x':X_test.values.reshape(1,-1)[0], 'y':knn_predict_test.reshape(1,-1)[0]})\n",
    "df3.plot.scatter(x='x',y='y')\n",
    "\n"
   ]
  },
  {
   "cell_type": "code",
   "execution_count": 271,
   "metadata": {
    "pycharm": {
     "name": "#%%\n"
    }
   },
   "outputs": [
    {
     "data": {
      "text/plain": [
       "[<matplotlib.lines.Line2D at 0x1c9db7d34f0>]"
      ]
     },
     "execution_count": 271,
     "metadata": {},
     "output_type": "execute_result"
    },
    {
     "data": {
      "image/png": "[encoded data removed]",
      "text/plain": [
       "<Figure size 432x288 with 1 Axes>"
      ]
     },
     "metadata": {
      "needs_background": "light"
     },
     "output_type": "display_data"
    }
   ],
   "source": [
    "from matplotlib import pyplot\n",
    "\n",
    "pyplot.plot(X_train, knn_predict_train, \".\")\n",
    "pyplot.plot(X_train, y_train, \".\")"
   ]
  },
  {
   "cell_type": "markdown",
   "metadata": {},
   "source": [
    "In[101]:"
   ]
  },
  {
   "cell_type": "code",
   "execution_count": 272,
   "metadata": {},
   "outputs": [],
   "source": [
    "test_mse_knn3 = mean_squared_error(y_test, knn_predict_test)\n",
    "train_mse_knn3 = mean_squared_error(y_train, knn_predict_train)"
   ]
  },
  {
   "cell_type": "code",
   "execution_count": 273,
   "metadata": {},
   "outputs": [
    {
     "data": {
      "text/plain": [
       "(82.20992276590778, 44.24376481265474)"
      ]
     },
     "execution_count": 273,
     "metadata": {},
     "output_type": "execute_result"
    }
   ],
   "source": [
    "test_mse_knn3, train_mse_knn3"
   ]
  },
  {
   "cell_type": "code",
   "execution_count": 274,
   "metadata": {
    "pycharm": {
     "name": "#%%\n"
    }
   },
   "outputs": [
    {
     "data": {
      "text/html": [
       "<div>\n",
       "<style scoped>\n",
       "    .dataframe tbody tr th:only-of-type {\n",
       "        vertical-align: middle;\n",
       "    }\n",
       "\n",
       "    .dataframe tbody tr th {\n",
       "        vertical-align: top;\n",
       "    }\n",
       "\n",
       "    .dataframe thead th {\n",
       "        text-align: right;\n",
       "    }\n",
       "</style>\n",
       "<table border=\"1\" class=\"dataframe\">\n",
       "  <thead>\n",
       "    <tr style=\"text-align: right;\">\n",
       "      <th></th>\n",
       "      <th>train_mse</th>\n",
       "      <th>test_mse</th>\n",
       "    </tr>\n",
       "  </thead>\n",
       "  <tbody>\n",
       "    <tr>\n",
       "      <th>lin_reg</th>\n",
       "      <td>208.54037</td>\n",
       "      <td>238.351543</td>\n",
       "    </tr>\n",
       "    <tr>\n",
       "      <th>knn_3_reg</th>\n",
       "      <td>44.243765</td>\n",
       "      <td>82.209923</td>\n",
       "    </tr>\n",
       "  </tbody>\n",
       "</table>\n",
       "</div>"
      ],
      "text/plain": [
       "           train_mse    test_mse\n",
       "lin_reg    208.54037  238.351543\n",
       "knn_3_reg  44.243765   82.209923"
      ]
     },
     "execution_count": 274,
     "metadata": {},
     "output_type": "execute_result"
    }
   ],
   "source": [
    "df_mse_score.loc[\"knn_3_reg\", \"train_mse\"] = train_mse_knn3\n",
    "df_mse_score.loc[\"knn_3_reg\", \"test_mse\"] = test_mse_knn3\n",
    "df_mse_score"
   ]
  },
  {
   "cell_type": "code",
   "execution_count": 275,
   "metadata": {
    "pycharm": {
     "name": "#%%\n"
    }
   },
   "outputs": [],
   "source": [
    "regressors.append((knn_reg, None))\n"
   ]
  },
  {
   "cell_type": "markdown",
   "metadata": {},
   "source": [
    "### KNN 5"
   ]
  },
  {
   "cell_type": "code",
   "execution_count": 276,
   "metadata": {},
   "outputs": [],
   "source": [
    "import sklearn.neighbors\n",
    "knn_reg = sklearn.neighbors.KNeighborsRegressor(n_neighbors=5)\n",
    "knn_reg.fit(X_train, y_train)\n",
    "knn_predict_test = knn_reg.predict(X_test)\n",
    "knn_predict_train = knn_reg.predict(X_train)"
   ]
  },
  {
   "cell_type": "markdown",
   "metadata": {},
   "source": [
    "In[107]:"
   ]
  },
  {
   "cell_type": "code",
   "execution_count": 277,
   "metadata": {},
   "outputs": [
    {
     "data": {
      "text/plain": [
       "<AxesSubplot:xlabel='x', ylabel='y'>"
      ]
     },
     "execution_count": 277,
     "metadata": {},
     "output_type": "execute_result"
    },
    {
     "data": {
      "image/png": "[encoded data removed]",
      "text/plain": [
       "<Figure size 432x288 with 1 Axes>"
      ]
     },
     "metadata": {
      "needs_background": "light"
     },
     "output_type": "display_data"
    }
   ],
   "source": [
    "df4 = pd.DataFrame({'x':X_test.values.reshape(1,-1)[0], 'y':knn_predict_test.reshape(1,-1)[0]})\n",
    "df4.plot.scatter(x='x',y='y')"
   ]
  },
  {
   "cell_type": "markdown",
   "metadata": {},
   "source": [
    "In[108]:"
   ]
  },
  {
   "cell_type": "code",
   "execution_count": 278,
   "metadata": {},
   "outputs": [],
   "source": [
    "test_mse_knn5 = mean_squared_error(y_test, knn_predict_test)\n",
    "train_mse_knn5 = mean_squared_error(y_train, knn_predict_train)"
   ]
  },
  {
   "cell_type": "code",
   "execution_count": 279,
   "metadata": {},
   "outputs": [
    {
     "data": {
      "text/plain": [
       "(86.22688703680498, 52.006256239805346)"
      ]
     },
     "execution_count": 279,
     "metadata": {},
     "output_type": "execute_result"
    }
   ],
   "source": [
    "test_mse_knn5, train_mse_knn5"
   ]
  },
  {
   "cell_type": "code",
   "execution_count": 280,
   "metadata": {
    "pycharm": {
     "name": "#%%\n"
    }
   },
   "outputs": [
    {
     "data": {
      "text/html": [
       "<div>\n",
       "<style scoped>\n",
       "    .dataframe tbody tr th:only-of-type {\n",
       "        vertical-align: middle;\n",
       "    }\n",
       "\n",
       "    .dataframe tbody tr th {\n",
       "        vertical-align: top;\n",
       "    }\n",
       "\n",
       "    .dataframe thead th {\n",
       "        text-align: right;\n",
       "    }\n",
       "</style>\n",
       "<table border=\"1\" class=\"dataframe\">\n",
       "  <thead>\n",
       "    <tr style=\"text-align: right;\">\n",
       "      <th></th>\n",
       "      <th>train_mse</th>\n",
       "      <th>test_mse</th>\n",
       "    </tr>\n",
       "  </thead>\n",
       "  <tbody>\n",
       "    <tr>\n",
       "      <th>lin_reg</th>\n",
       "      <td>208.54037</td>\n",
       "      <td>238.351543</td>\n",
       "    </tr>\n",
       "    <tr>\n",
       "      <th>knn_3_reg</th>\n",
       "      <td>44.243765</td>\n",
       "      <td>82.209923</td>\n",
       "    </tr>\n",
       "    <tr>\n",
       "      <th>knn_5_reg</th>\n",
       "      <td>52.006256</td>\n",
       "      <td>86.226887</td>\n",
       "    </tr>\n",
       "  </tbody>\n",
       "</table>\n",
       "</div>"
      ],
      "text/plain": [
       "           train_mse    test_mse\n",
       "lin_reg    208.54037  238.351543\n",
       "knn_3_reg  44.243765   82.209923\n",
       "knn_5_reg  52.006256   86.226887"
      ]
     },
     "execution_count": 280,
     "metadata": {},
     "output_type": "execute_result"
    }
   ],
   "source": [
    "df_mse_score.loc[\"knn_5_reg\", \"train_mse\"] = train_mse_knn5\n",
    "df_mse_score.loc[\"knn_5_reg\", \"test_mse\"] = test_mse_knn5\n",
    "df_mse_score"
   ]
  },
  {
   "cell_type": "code",
   "execution_count": 281,
   "metadata": {
    "pycharm": {
     "name": "#%%\n"
    }
   },
   "outputs": [],
   "source": [
    "regressors.append((knn_reg, None))"
   ]
  },
  {
   "cell_type": "markdown",
   "metadata": {},
   "source": [
    "In[109]:"
   ]
  },
  {
   "cell_type": "markdown",
   "metadata": {},
   "source": [
    "# Polynomial"
   ]
  },
  {
   "cell_type": "markdown",
   "metadata": {},
   "source": [
    "In[126]:"
   ]
  },
  {
   "cell_type": "code",
   "execution_count": 282,
   "metadata": {},
   "outputs": [],
   "source": [
    "from sklearn.preprocessing import PolynomialFeatures\n",
    "poly_features = PolynomialFeatures(degree=2, include_bias=False)\n",
    "X_poly = poly_features.fit_transform(X_train)\n",
    "lin_reg = LinearRegression()\n",
    "lin_reg.fit(X_poly, y_train)\n",
    "lin_r_predict_test= lin_reg.predict(poly_features.fit_transform(X_test))\n",
    "lin_r_predict_train = lin_reg.predict(poly_features.fit_transform(X_train))"
   ]
  },
  {
   "cell_type": "markdown",
   "metadata": {},
   "source": [
    "In[117]:"
   ]
  },
  {
   "cell_type": "code",
   "execution_count": 283,
   "metadata": {},
   "outputs": [
    {
     "data": {
      "text/plain": [
       "<AxesSubplot:xlabel='x', ylabel='y'>"
      ]
     },
     "execution_count": 283,
     "metadata": {},
     "output_type": "execute_result"
    },
    {
     "data": {
      "image/png": "[encoded data removed]",
      "text/plain": [
       "<Figure size 432x288 with 1 Axes>"
      ]
     },
     "metadata": {
      "needs_background": "light"
     },
     "output_type": "display_data"
    }
   ],
   "source": [
    "df5 = pd.DataFrame({'x':X_test.values.reshape(1,-1)[0], 'y':lin_r_predict_test.reshape(1,-1)[0]})\n",
    "df5.plot.scatter(x='x',y='y')"
   ]
  },
  {
   "cell_type": "markdown",
   "metadata": {},
   "source": [
    "In[118]:"
   ]
  },
  {
   "cell_type": "code",
   "execution_count": 284,
   "metadata": {},
   "outputs": [
    {
     "data": {
      "text/plain": [
       "(85.75209923334748, 76.78665138982133)"
      ]
     },
     "execution_count": 284,
     "metadata": {},
     "output_type": "execute_result"
    }
   ],
   "source": [
    "test_mse_poly2 = mean_squared_error(y_test, lin_r_predict_test)\n",
    "train_mse_poly2 = mean_squared_error(y_train, lin_r_predict_train)\n",
    "test_mse_poly2, train_mse_poly2"
   ]
  },
  {
   "cell_type": "code",
   "execution_count": 285,
   "metadata": {
    "pycharm": {
     "name": "#%%\n"
    }
   },
   "outputs": [
    {
     "data": {
      "text/html": [
       "<div>\n",
       "<style scoped>\n",
       "    .dataframe tbody tr th:only-of-type {\n",
       "        vertical-align: middle;\n",
       "    }\n",
       "\n",
       "    .dataframe tbody tr th {\n",
       "        vertical-align: top;\n",
       "    }\n",
       "\n",
       "    .dataframe thead th {\n",
       "        text-align: right;\n",
       "    }\n",
       "</style>\n",
       "<table border=\"1\" class=\"dataframe\">\n",
       "  <thead>\n",
       "    <tr style=\"text-align: right;\">\n",
       "      <th></th>\n",
       "      <th>train_mse</th>\n",
       "      <th>test_mse</th>\n",
       "    </tr>\n",
       "  </thead>\n",
       "  <tbody>\n",
       "    <tr>\n",
       "      <th>lin_reg</th>\n",
       "      <td>208.54037</td>\n",
       "      <td>238.351543</td>\n",
       "    </tr>\n",
       "    <tr>\n",
       "      <th>knn_3_reg</th>\n",
       "      <td>44.243765</td>\n",
       "      <td>82.209923</td>\n",
       "    </tr>\n",
       "    <tr>\n",
       "      <th>knn_5_reg</th>\n",
       "      <td>52.006256</td>\n",
       "      <td>86.226887</td>\n",
       "    </tr>\n",
       "    <tr>\n",
       "      <th>poly_2_reg</th>\n",
       "      <td>76.786651</td>\n",
       "      <td>85.752099</td>\n",
       "    </tr>\n",
       "  </tbody>\n",
       "</table>\n",
       "</div>"
      ],
      "text/plain": [
       "            train_mse    test_mse\n",
       "lin_reg     208.54037  238.351543\n",
       "knn_3_reg   44.243765   82.209923\n",
       "knn_5_reg   52.006256   86.226887\n",
       "poly_2_reg  76.786651   85.752099"
      ]
     },
     "execution_count": 285,
     "metadata": {},
     "output_type": "execute_result"
    }
   ],
   "source": [
    "df_mse_score.loc[\"poly_2_reg\", \"train_mse\"] = train_mse_poly2\n",
    "df_mse_score.loc[\"poly_2_reg\", \"test_mse\"] = test_mse_poly2\n",
    "df_mse_score"
   ]
  },
  {
   "cell_type": "code",
   "execution_count": 286,
   "metadata": {
    "pycharm": {
     "name": "#%%\n"
    }
   },
   "outputs": [],
   "source": [
    "regressors.append((lin_reg, poly_features))"
   ]
  },
  {
   "cell_type": "code",
   "execution_count": 287,
   "metadata": {
    "pycharm": {
     "name": "#%%\n"
    }
   },
   "outputs": [],
   "source": [
    "from sklearn.preprocessing import PolynomialFeatures\n",
    "poly_features = PolynomialFeatures(degree=3, include_bias=False)\n",
    "X_poly = poly_features.fit_transform(X_train)\n",
    "lin_reg = LinearRegression()\n",
    "lin_reg.fit(X_poly, y_train)\n",
    "lin_r_predict_test= lin_reg.predict(poly_features.fit_transform(X_test))\n",
    "lin_r_predict_train = lin_reg.predict(poly_features.fit_transform(X_train))"
   ]
  },
  {
   "cell_type": "code",
   "execution_count": 288,
   "metadata": {
    "pycharm": {
     "name": "#%%\n"
    }
   },
   "outputs": [
    {
     "data": {
      "text/plain": [
       "<AxesSubplot:xlabel='x', ylabel='y'>"
      ]
     },
     "execution_count": 288,
     "metadata": {},
     "output_type": "execute_result"
    },
    {
     "data": {
      "image/png": "[encoded data removed]",
      "text/plain": [
       "<Figure size 432x288 with 1 Axes>"
      ]
     },
     "metadata": {
      "needs_background": "light"
     },
     "output_type": "display_data"
    }
   ],
   "source": [
    "df5 = pd.DataFrame({'x':X_test.values.reshape(1,-1)[0], 'y':lin_r_predict_test.reshape(1,-1)[0]})\n",
    "df5.plot.scatter(x='x',y='y')"
   ]
  },
  {
   "cell_type": "code",
   "execution_count": 289,
   "metadata": {
    "pycharm": {
     "name": "#%%\n"
    }
   },
   "outputs": [
    {
     "data": {
      "text/plain": [
       "(67.8367674429061, 64.67322506317623)"
      ]
     },
     "execution_count": 289,
     "metadata": {},
     "output_type": "execute_result"
    }
   ],
   "source": [
    "test_mse_poly2 = mean_squared_error(y_test, lin_r_predict_test)\n",
    "train_mse_poly2 = mean_squared_error(y_train, lin_r_predict_train)\n",
    "test_mse_poly2, train_mse_poly2"
   ]
  },
  {
   "cell_type": "code",
   "execution_count": 290,
   "metadata": {
    "pycharm": {
     "name": "#%%\n"
    }
   },
   "outputs": [
    {
     "data": {
      "text/html": [
       "<div>\n",
       "<style scoped>\n",
       "    .dataframe tbody tr th:only-of-type {\n",
       "        vertical-align: middle;\n",
       "    }\n",
       "\n",
       "    .dataframe tbody tr th {\n",
       "        vertical-align: top;\n",
       "    }\n",
       "\n",
       "    .dataframe thead th {\n",
       "        text-align: right;\n",
       "    }\n",
       "</style>\n",
       "<table border=\"1\" class=\"dataframe\">\n",
       "  <thead>\n",
       "    <tr style=\"text-align: right;\">\n",
       "      <th></th>\n",
       "      <th>train_mse</th>\n",
       "      <th>test_mse</th>\n",
       "    </tr>\n",
       "  </thead>\n",
       "  <tbody>\n",
       "    <tr>\n",
       "      <th>lin_reg</th>\n",
       "      <td>208.54037</td>\n",
       "      <td>238.351543</td>\n",
       "    </tr>\n",
       "    <tr>\n",
       "      <th>knn_3_reg</th>\n",
       "      <td>44.243765</td>\n",
       "      <td>82.209923</td>\n",
       "    </tr>\n",
       "    <tr>\n",
       "      <th>knn_5_reg</th>\n",
       "      <td>52.006256</td>\n",
       "      <td>86.226887</td>\n",
       "    </tr>\n",
       "    <tr>\n",
       "      <th>poly_2_reg</th>\n",
       "      <td>76.786651</td>\n",
       "      <td>85.752099</td>\n",
       "    </tr>\n",
       "    <tr>\n",
       "      <th>poly_3_reg</th>\n",
       "      <td>64.673225</td>\n",
       "      <td>67.836767</td>\n",
       "    </tr>\n",
       "  </tbody>\n",
       "</table>\n",
       "</div>"
      ],
      "text/plain": [
       "            train_mse    test_mse\n",
       "lin_reg     208.54037  238.351543\n",
       "knn_3_reg   44.243765   82.209923\n",
       "knn_5_reg   52.006256   86.226887\n",
       "poly_2_reg  76.786651   85.752099\n",
       "poly_3_reg  64.673225   67.836767"
      ]
     },
     "execution_count": 290,
     "metadata": {},
     "output_type": "execute_result"
    }
   ],
   "source": [
    "df_mse_score.loc[\"poly_3_reg\", \"train_mse\"] = train_mse_poly2\n",
    "df_mse_score.loc[\"poly_3_reg\", \"test_mse\"] = test_mse_poly2\n",
    "df_mse_score"
   ]
  },
  {
   "cell_type": "code",
   "execution_count": 291,
   "metadata": {
    "pycharm": {
     "name": "#%%\n"
    }
   },
   "outputs": [],
   "source": [
    "regressors.append((lin_reg, poly_features))"
   ]
  },
  {
   "cell_type": "code",
   "execution_count": 292,
   "metadata": {
    "pycharm": {
     "name": "#%%\n"
    }
   },
   "outputs": [],
   "source": [
    "from sklearn.preprocessing import PolynomialFeatures\n",
    "poly_features = PolynomialFeatures(degree=4 , include_bias=False)\n",
    "X_poly = poly_features.fit_transform(X_train)\n",
    "lin_reg = LinearRegression()\n",
    "lin_reg.fit(X_poly, y_train)\n",
    "lin_r_predict_test= lin_reg.predict(poly_features.fit_transform(X_test))\n",
    "lin_r_predict_train = lin_reg.predict(poly_features.fit_transform(X_train))"
   ]
  },
  {
   "cell_type": "code",
   "execution_count": 293,
   "metadata": {
    "pycharm": {
     "name": "#%%\n"
    }
   },
   "outputs": [
    {
     "data": {
      "text/plain": [
       "<AxesSubplot:xlabel='x', ylabel='y'>"
      ]
     },
     "execution_count": 293,
     "metadata": {},
     "output_type": "execute_result"
    },
    {
     "data": {
      "image/png": "[encoded data removed]",
      "text/plain": [
       "<Figure size 432x288 with 1 Axes>"
      ]
     },
     "metadata": {
      "needs_background": "light"
     },
     "output_type": "display_data"
    }
   ],
   "source": [
    "df5 = pd.DataFrame({'x':X_test.values.reshape(1,-1)[0], 'y':lin_r_predict_test.reshape(1,-1)[0]})\n",
    "df5.plot.scatter(x='x',y='y')"
   ]
  },
  {
   "cell_type": "code",
   "execution_count": 294,
   "metadata": {
    "pycharm": {
     "name": "#%%\n"
    }
   },
   "outputs": [
    {
     "data": {
      "text/plain": [
       "(54.869777957370914, 62.02642259815572)"
      ]
     },
     "execution_count": 294,
     "metadata": {},
     "output_type": "execute_result"
    }
   ],
   "source": [
    "test_mse_poly2 = mean_squared_error(y_test, lin_r_predict_test)\n",
    "train_mse_poly2 = mean_squared_error(y_train, lin_r_predict_train)\n",
    "test_mse_poly2, train_mse_poly2"
   ]
  },
  {
   "cell_type": "code",
   "execution_count": 295,
   "metadata": {
    "pycharm": {
     "name": "#%%\n"
    }
   },
   "outputs": [
    {
     "data": {
      "text/html": [
       "<div>\n",
       "<style scoped>\n",
       "    .dataframe tbody tr th:only-of-type {\n",
       "        vertical-align: middle;\n",
       "    }\n",
       "\n",
       "    .dataframe tbody tr th {\n",
       "        vertical-align: top;\n",
       "    }\n",
       "\n",
       "    .dataframe thead th {\n",
       "        text-align: right;\n",
       "    }\n",
       "</style>\n",
       "<table border=\"1\" class=\"dataframe\">\n",
       "  <thead>\n",
       "    <tr style=\"text-align: right;\">\n",
       "      <th></th>\n",
       "      <th>train_mse</th>\n",
       "      <th>test_mse</th>\n",
       "    </tr>\n",
       "  </thead>\n",
       "  <tbody>\n",
       "    <tr>\n",
       "      <th>lin_reg</th>\n",
       "      <td>208.54037</td>\n",
       "      <td>238.351543</td>\n",
       "    </tr>\n",
       "    <tr>\n",
       "      <th>knn_3_reg</th>\n",
       "      <td>44.243765</td>\n",
       "      <td>82.209923</td>\n",
       "    </tr>\n",
       "    <tr>\n",
       "      <th>knn_5_reg</th>\n",
       "      <td>52.006256</td>\n",
       "      <td>86.226887</td>\n",
       "    </tr>\n",
       "    <tr>\n",
       "      <th>poly_2_reg</th>\n",
       "      <td>76.786651</td>\n",
       "      <td>85.752099</td>\n",
       "    </tr>\n",
       "    <tr>\n",
       "      <th>poly_3_reg</th>\n",
       "      <td>64.673225</td>\n",
       "      <td>67.836767</td>\n",
       "    </tr>\n",
       "    <tr>\n",
       "      <th>poly_4_reg</th>\n",
       "      <td>62.026423</td>\n",
       "      <td>54.869778</td>\n",
       "    </tr>\n",
       "  </tbody>\n",
       "</table>\n",
       "</div>"
      ],
      "text/plain": [
       "            train_mse    test_mse\n",
       "lin_reg     208.54037  238.351543\n",
       "knn_3_reg   44.243765   82.209923\n",
       "knn_5_reg   52.006256   86.226887\n",
       "poly_2_reg  76.786651   85.752099\n",
       "poly_3_reg  64.673225   67.836767\n",
       "poly_4_reg  62.026423   54.869778"
      ]
     },
     "execution_count": 295,
     "metadata": {},
     "output_type": "execute_result"
    }
   ],
   "source": [
    "df_mse_score.loc[\"poly_4_reg\", \"train_mse\"] = train_mse_poly2\n",
    "df_mse_score.loc[\"poly_4_reg\", \"test_mse\"] = test_mse_poly2\n",
    "df_mse_score"
   ]
  },
  {
   "cell_type": "code",
   "execution_count": 296,
   "metadata": {
    "pycharm": {
     "name": "#%%\n"
    }
   },
   "outputs": [],
   "source": [
    "regressors.append((lin_reg, poly_features))"
   ]
  },
  {
   "cell_type": "code",
   "execution_count": 297,
   "metadata": {
    "pycharm": {
     "name": "#%%\n"
    }
   },
   "outputs": [],
   "source": [
    "from sklearn.preprocessing import PolynomialFeatures\n",
    "poly_features = PolynomialFeatures(degree=5, include_bias=False)\n",
    "X_poly = poly_features.fit_transform(X_train)\n",
    "lin_reg = LinearRegression()\n",
    "lin_reg.fit(X_poly, y_train)\n",
    "lin_r_predict_test= lin_reg.predict(poly_features.fit_transform(X_test))\n",
    "lin_r_predict_train = lin_reg.predict(poly_features.fit_transform(X_train))"
   ]
  },
  {
   "cell_type": "code",
   "execution_count": 297,
   "metadata": {
    "pycharm": {
     "name": "#%%\n"
    }
   },
   "outputs": [],
   "source": []
  },
  {
   "cell_type": "code",
   "execution_count": 298,
   "metadata": {
    "pycharm": {
     "name": "#%%\n"
    }
   },
   "outputs": [
    {
     "data": {
      "text/plain": [
       "<AxesSubplot:xlabel='x', ylabel='y'>"
      ]
     },
     "execution_count": 298,
     "metadata": {},
     "output_type": "execute_result"
    },
    {
     "data": {
      "image/png": "[encoded data removed]",
      "text/plain": [
       "<Figure size 432x288 with 1 Axes>"
      ]
     },
     "metadata": {
      "needs_background": "light"
     },
     "output_type": "display_data"
    }
   ],
   "source": [
    "df5 = pd.DataFrame({'x':X_test.values.reshape(1,-1)[0], 'y':lin_r_predict_test.reshape(1,-1)[0]})\n",
    "df5.plot.scatter(x='x',y='y')"
   ]
  },
  {
   "cell_type": "code",
   "execution_count": 299,
   "metadata": {
    "pycharm": {
     "name": "#%%\n"
    }
   },
   "outputs": [
    {
     "data": {
      "text/plain": [
       "(54.76864082514066, 62.02331874332522)"
      ]
     },
     "execution_count": 299,
     "metadata": {},
     "output_type": "execute_result"
    }
   ],
   "source": [
    "test_mse_poly2 = mean_squared_error(y_test, lin_r_predict_test)\n",
    "train_mse_poly2 = mean_squared_error(y_train, lin_r_predict_train)\n",
    "test_mse_poly2, train_mse_poly2"
   ]
  },
  {
   "cell_type": "code",
   "execution_count": 300,
   "metadata": {
    "pycharm": {
     "name": "#%%\n"
    }
   },
   "outputs": [
    {
     "data": {
      "text/html": [
       "<div>\n",
       "<style scoped>\n",
       "    .dataframe tbody tr th:only-of-type {\n",
       "        vertical-align: middle;\n",
       "    }\n",
       "\n",
       "    .dataframe tbody tr th {\n",
       "        vertical-align: top;\n",
       "    }\n",
       "\n",
       "    .dataframe thead th {\n",
       "        text-align: right;\n",
       "    }\n",
       "</style>\n",
       "<table border=\"1\" class=\"dataframe\">\n",
       "  <thead>\n",
       "    <tr style=\"text-align: right;\">\n",
       "      <th></th>\n",
       "      <th>train_mse</th>\n",
       "      <th>test_mse</th>\n",
       "    </tr>\n",
       "  </thead>\n",
       "  <tbody>\n",
       "    <tr>\n",
       "      <th>lin_reg</th>\n",
       "      <td>208.54037</td>\n",
       "      <td>238.351543</td>\n",
       "    </tr>\n",
       "    <tr>\n",
       "      <th>knn_3_reg</th>\n",
       "      <td>44.243765</td>\n",
       "      <td>82.209923</td>\n",
       "    </tr>\n",
       "    <tr>\n",
       "      <th>knn_5_reg</th>\n",
       "      <td>52.006256</td>\n",
       "      <td>86.226887</td>\n",
       "    </tr>\n",
       "    <tr>\n",
       "      <th>poly_2_reg</th>\n",
       "      <td>76.786651</td>\n",
       "      <td>85.752099</td>\n",
       "    </tr>\n",
       "    <tr>\n",
       "      <th>poly_3_reg</th>\n",
       "      <td>64.673225</td>\n",
       "      <td>67.836767</td>\n",
       "    </tr>\n",
       "    <tr>\n",
       "      <th>poly_4_reg</th>\n",
       "      <td>62.026423</td>\n",
       "      <td>54.869778</td>\n",
       "    </tr>\n",
       "    <tr>\n",
       "      <th>poly_5_reg</th>\n",
       "      <td>62.023319</td>\n",
       "      <td>54.768641</td>\n",
       "    </tr>\n",
       "  </tbody>\n",
       "</table>\n",
       "</div>"
      ],
      "text/plain": [
       "            train_mse    test_mse\n",
       "lin_reg     208.54037  238.351543\n",
       "knn_3_reg   44.243765   82.209923\n",
       "knn_5_reg   52.006256   86.226887\n",
       "poly_2_reg  76.786651   85.752099\n",
       "poly_3_reg  64.673225   67.836767\n",
       "poly_4_reg  62.026423   54.869778\n",
       "poly_5_reg  62.023319   54.768641"
      ]
     },
     "execution_count": 300,
     "metadata": {},
     "output_type": "execute_result"
    }
   ],
   "source": [
    "df_mse_score.loc[\"poly_5_reg\", \"train_mse\"] = train_mse_poly2\n",
    "df_mse_score.loc[\"poly_5_reg\", \"test_mse\"] = test_mse_poly2\n",
    "df_mse_score"
   ]
  },
  {
   "cell_type": "code",
   "execution_count": 301,
   "metadata": {
    "pycharm": {
     "name": "#%%\n"
    }
   },
   "outputs": [],
   "source": [
    "regressors.append((lin_reg, poly_features))"
   ]
  },
  {
   "cell_type": "code",
   "execution_count": 302,
   "metadata": {
    "pycharm": {
     "name": "#%%\n"
    }
   },
   "outputs": [],
   "source": [
    "import pickle\n",
    "pickle.dump(df_mse_score, open(\"mse.pkl\", \"wb\"))"
   ]
  },
  {
   "cell_type": "code",
   "execution_count": 303,
   "metadata": {
    "pycharm": {
     "name": "#%%\n"
    }
   },
   "outputs": [
    {
     "data": {
      "text/plain": [
       "[(LinearRegression(), None),\n",
       " (KNeighborsRegressor(n_neighbors=3), None),\n",
       " (KNeighborsRegressor(), None),\n",
       " (LinearRegression(), PolynomialFeatures(include_bias=False)),\n",
       " (LinearRegression(), PolynomialFeatures(degree=3, include_bias=False)),\n",
       " (LinearRegression(), PolynomialFeatures(degree=4, include_bias=False)),\n",
       " (LinearRegression(), PolynomialFeatures(degree=5, include_bias=False))]"
      ]
     },
     "execution_count": 303,
     "metadata": {},
     "output_type": "execute_result"
    }
   ],
   "source": [
    "regressors"
   ]
  },
  {
   "cell_type": "code",
   "execution_count": 304,
   "metadata": {
    "pycharm": {
     "name": "#%%\n"
    }
   },
   "outputs": [],
   "source": [
    "import pickle\n",
    "pickle.dump(regressors, open(\"reg.pkl\", \"wb\"))"
   ]
  }
 ],
 "metadata": {
  "kernelspec": {
   "display_name": "Python 3 (ipykernel)",
   "language": "python",
   "name": "python3"
  },
  "language_info": {
   "codemirror_mode": {
    "name": "ipython",
    "version": 3
   },
   "file_extension": ".py",
   "mimetype": "text/x-python",
   "name": "python",
   "nbconvert_exporter": "python",
   "pygments_lexer": "ipython3",
   "version": "3.9.7"
  }
 },
 "nbformat": 4,
 "nbformat_minor": 2
}
