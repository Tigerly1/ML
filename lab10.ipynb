{
 "cells": [
  {
   "cell_type": "code",
   "execution_count": 1,
   "id": "048b1025-0dca-4235-b812-01a2d4afcebc",
   "metadata": {},
   "outputs": [],
   "source": [
    "import tensorflow as tf\n",
    "fashion_mnist = tf.keras.datasets.fashion_mnist\n",
    "(X_train, y_train), (X_test, y_test) = fashion_mnist.load_data()\n",
    "assert X_train.shape == (60000, 28, 28)\n",
    "assert X_test.shape == (10000, 28, 28)\n",
    "assert y_train.shape == (60000,)\n",
    "assert y_test.shape == (10000,)"
   ]
  },
  {
   "cell_type": "code",
   "execution_count": 2,
   "id": "5123c5ac-07eb-40d2-a0fb-52306d5f3620",
   "metadata": {},
   "outputs": [],
   "source": [
    "import numpy as np"
   ]
  },
  {
   "cell_type": "code",
   "execution_count": 3,
   "id": "a0bfe169-4ff3-4094-8ea8-480029479cb7",
   "metadata": {},
   "outputs": [
    {
     "data": {
      "text/plain": [
       "255"
      ]
     },
     "execution_count": 3,
     "metadata": {},
     "output_type": "execute_result"
    }
   ],
   "source": [
    "np.max(X_train[0])"
   ]
  },
  {
   "cell_type": "code",
   "execution_count": 4,
   "id": "67fd0c83-797f-4bf2-9f82-40f561672165",
   "metadata": {},
   "outputs": [],
   "source": [
    "X_train = X_train / 255\n",
    "X_test = X_test / 255"
   ]
  },
  {
   "cell_type": "code",
   "execution_count": 5,
   "id": "6ebe6432-3a38-4000-8865-9a9e652c7e97",
   "metadata": {},
   "outputs": [
    {
     "data": {
      "image/png": "[encoded data removed]",
      "text/plain": [
       "<Figure size 432x288 with 1 Axes>"
      ]
     },
     "metadata": {
      "needs_background": "light"
     },
     "output_type": "display_data"
    }
   ],
   "source": [
    "import matplotlib.pyplot as plt \n",
    "plt.imshow(X_train[164], cmap=\"binary\")\n",
    "plt.axis('off')\n",
    "plt.show()"
   ]
  },
  {
   "cell_type": "code",
   "execution_count": 6,
   "id": "1e9b0df0-d061-4ea0-9173-a4add7441ce3",
   "metadata": {},
   "outputs": [
    {
     "data": {
      "text/plain": [
       "'but'"
      ]
     },
     "execution_count": 6,
     "metadata": {},
     "output_type": "execute_result"
    }
   ],
   "source": [
    "class_names = [\"koszulka\", \"spodnie\", \"pulower\", \"sukienka\", \"kurtka\",\n",
    "               \"sandał\", \"koszula\", \"but\", \"torba\", \"kozak\"]\n",
    "class_names[y_train[142]]"
   ]
  },
  {
   "cell_type": "code",
   "execution_count": 20,
   "id": "486d378e-681e-4d59-893d-d2bdeeecba88",
   "metadata": {},
   "outputs": [],
   "source": [
    "import tensorflow as tf\n",
    "from tensorflow import keras\n",
    "\n",
    "model = keras.models.Sequential()\n",
    "model.add(keras.layers.Flatten(input_shape=[28,28]))\n",
    "model.add(keras.layers.Dense(300, activation=\"relu\"))\n",
    "model.add(keras.layers.Dense(100, activation=\"relu\"))\n",
    "model.add(keras.layers.Dense(10, activation=\"softmax\"))\n",
    "\n",
    "model.compile(loss=\"sparse_categorical_crossentropy\",\n",
    "              optimizer=\"sgd\",\n",
    "              metrics=[\"accuracy\"])\n",
    "\n",
    "\n",
    "\n",
    "\n"
   ]
  },
  {
   "cell_type": "code",
   "execution_count": 21,
   "id": "5e7a35de-aeee-48e4-9714-25aad611b805",
   "metadata": {},
   "outputs": [],
   "source": [
    "import os\n",
    "root_logdir = os.path.join(os.curdir, \"image_logs\")\n",
    "def get_run_logdir(): \n",
    "    import time\n",
    "    run_id = time.strftime(\"run_%Y_%m_%d-%H_%M_%S\") \n",
    "    return os.path.join(root_logdir, run_id)\n",
    "run_logdir = get_run_logdir()\n",
    "tensorboard_cb = tf.keras.callbacks.TensorBoard(run_logdir)"
   ]
  },
  {
   "cell_type": "code",
   "execution_count": 96,
   "id": "8683b983-6dc1-4401-a62f-2db18d533208",
   "metadata": {},
   "outputs": [
    {
     "name": "stdout",
     "output_type": "stream",
     "text": [
      "Epoch 1/20\n",
      "1688/1688 [==============================] - 7s 4ms/step - loss: 0.2673 - accuracy: 0.9051 - val_loss: 0.3287 - val_accuracy: 0.8832\n",
      "Epoch 2/20\n",
      "1688/1688 [==============================] - 7s 4ms/step - loss: 0.2634 - accuracy: 0.9046 - val_loss: 0.3202 - val_accuracy: 0.8828\n",
      "Epoch 3/20\n",
      "1688/1688 [==============================] - 7s 4ms/step - loss: 0.2579 - accuracy: 0.9069 - val_loss: 0.3304 - val_accuracy: 0.8828\n",
      "Epoch 4/20\n",
      "1688/1688 [==============================] - 7s 4ms/step - loss: 0.2539 - accuracy: 0.9087 - val_loss: 0.3230 - val_accuracy: 0.8827\n",
      "Epoch 5/20\n",
      "1688/1688 [==============================] - 7s 4ms/step - loss: 0.2492 - accuracy: 0.9104 - val_loss: 0.3255 - val_accuracy: 0.8822\n",
      "Epoch 6/20\n",
      "1688/1688 [==============================] - 7s 4ms/step - loss: 0.2443 - accuracy: 0.9132 - val_loss: 0.3187 - val_accuracy: 0.8858\n",
      "Epoch 7/20\n",
      "1688/1688 [==============================] - 7s 4ms/step - loss: 0.2411 - accuracy: 0.9133 - val_loss: 0.3198 - val_accuracy: 0.8875\n",
      "Epoch 8/20\n",
      "1688/1688 [==============================] - 7s 4ms/step - loss: 0.2377 - accuracy: 0.9146 - val_loss: 0.3080 - val_accuracy: 0.8922\n",
      "Epoch 9/20\n",
      "1688/1688 [==============================] - 7s 4ms/step - loss: 0.2333 - accuracy: 0.9166 - val_loss: 0.3146 - val_accuracy: 0.8903\n",
      "Epoch 10/20\n",
      "1688/1688 [==============================] - 7s 4ms/step - loss: 0.2301 - accuracy: 0.9176 - val_loss: 0.3092 - val_accuracy: 0.8892\n",
      "Epoch 11/20\n",
      "1688/1688 [==============================] - 7s 4ms/step - loss: 0.2259 - accuracy: 0.9187 - val_loss: 0.3060 - val_accuracy: 0.8890\n",
      "Epoch 12/20\n",
      "1688/1688 [==============================] - 7s 4ms/step - loss: 0.2220 - accuracy: 0.9210 - val_loss: 0.3198 - val_accuracy: 0.8860\n",
      "Epoch 13/20\n",
      "1688/1688 [==============================] - 7s 4ms/step - loss: 0.2186 - accuracy: 0.9217 - val_loss: 0.3066 - val_accuracy: 0.8932\n",
      "Epoch 14/20\n",
      "1688/1688 [==============================] - 7s 4ms/step - loss: 0.2159 - accuracy: 0.9229 - val_loss: 0.3095 - val_accuracy: 0.8905\n",
      "Epoch 15/20\n",
      "1688/1688 [==============================] - 7s 4ms/step - loss: 0.2119 - accuracy: 0.9251 - val_loss: 0.3220 - val_accuracy: 0.8897\n",
      "Epoch 16/20\n",
      "1688/1688 [==============================] - 7s 4ms/step - loss: 0.2086 - accuracy: 0.9263 - val_loss: 0.3255 - val_accuracy: 0.8868\n",
      "Epoch 17/20\n",
      "1688/1688 [==============================] - 7s 4ms/step - loss: 0.2055 - accuracy: 0.9264 - val_loss: 0.3125 - val_accuracy: 0.8920\n",
      "Epoch 18/20\n",
      "1688/1688 [==============================] - 7s 4ms/step - loss: 0.2023 - accuracy: 0.9278 - val_loss: 0.3119 - val_accuracy: 0.8907\n",
      "Epoch 19/20\n",
      "1688/1688 [==============================] - 7s 4ms/step - loss: 0.1995 - accuracy: 0.9294 - val_loss: 0.3202 - val_accuracy: 0.8907\n",
      "Epoch 20/20\n",
      "1688/1688 [==============================] - 8s 4ms/step - loss: 0.1957 - accuracy: 0.9306 - val_loss: 0.3059 - val_accuracy: 0.8943\n"
     ]
    },
    {
     "data": {
      "text/plain": [
       "<keras.callbacks.History at 0x2b36aee20>"
      ]
     },
     "execution_count": 96,
     "metadata": {},
     "output_type": "execute_result"
    }
   ],
   "source": [
    "model.fit(X_train, y_train, epochs=20, validation_split=0.1, callbacks=tensorboard_cb) "
   ]
  },
  {
   "cell_type": "code",
   "execution_count": 97,
   "id": "33426146-062c-41de-9ab1-a43eab12e54c",
   "metadata": {},
   "outputs": [
    {
     "name": "stdout",
     "output_type": "stream",
     "text": [
      "Model: \"sequential_4\"\n",
      "_________________________________________________________________\n",
      " Layer (type)                Output Shape              Param #   \n",
      "=================================================================\n",
      " flatten_4 (Flatten)         (None, 784)               0         \n",
      "                                                                 \n",
      " dense_12 (Dense)            (None, 300)               235500    \n",
      "                                                                 \n",
      " dense_13 (Dense)            (None, 100)               30100     \n",
      "                                                                 \n",
      " dense_14 (Dense)            (None, 10)                1010      \n",
      "                                                                 \n",
      "=================================================================\n",
      "Total params: 266,610\n",
      "Trainable params: 266,610\n",
      "Non-trainable params: 0\n",
      "_________________________________________________________________\n"
     ]
    },
    {
     "data": {
      "image/png": "[encoded data removed]",
      "text/plain": [
       "<IPython.core.display.Image object>"
      ]
     },
     "execution_count": 97,
     "metadata": {},
     "output_type": "execute_result"
    }
   ],
   "source": [
    "model.predict(X_test)\n",
    "\n",
    "model.summary()\n",
    "tf.keras.utils.plot_model(model, \"fashion_mnist.png\", show_shapes=True)"
   ]
  },
  {
   "cell_type": "code",
   "execution_count": 98,
   "id": "9d6f44bf-305e-443e-8f2e-a01f9abbf2c4",
   "metadata": {},
   "outputs": [
    {
     "name": "stdout",
     "output_type": "stream",
     "text": [
      "Prediction: koszula\n",
      "Confidence: 0.7363857\n",
      "Truth: pulower\n"
     ]
    },
    {
     "data": {
      "image/png": "[encoded data removed]",
      "text/plain": [
       "<Figure size 432x288 with 1 Axes>"
      ]
     },
     "metadata": {
      "needs_background": "light"
     },
     "output_type": "display_data"
    }
   ],
   "source": [
    "image_index = np.random.randint(len(X_test))\n",
    "image = np.array([X_test[image_index]])\n",
    "confidences = model.predict(image)\n",
    "confidence = np.max(confidences[0])\n",
    "prediction = np.argmax(confidences[0])\n",
    "print(\"Prediction:\", class_names[prediction])\n",
    "print(\"Confidence:\", confidence)\n",
    "print(\"Truth:\", class_names[y_test[image_index]])\n",
    "plt.imshow(image[0], cmap=\"binary\")\n",
    "plt.axis('off')\n",
    "plt.show()"
   ]
  },
  {
   "cell_type": "code",
   "execution_count": 99,
   "id": "30979854-e58b-4174-9b7a-bc8ee60ea222",
   "metadata": {},
   "outputs": [
    {
     "name": "stdout",
     "output_type": "stream",
     "text": [
      "The tensorboard extension is already loaded. To reload it, use:\n",
      "  %reload_ext tensorboard\n"
     ]
    }
   ],
   "source": [
    "%load_ext tensorboard"
   ]
  },
  {
   "cell_type": "code",
   "execution_count": 94,
   "id": "cd873f8f-f9f0-4264-ac6d-b224c0ffa550",
   "metadata": {},
   "outputs": [
    {
     "data": {
      "text/plain": [
       "Reusing TensorBoard on port 6008 (pid 4220), started 0:05:36 ago. (Use '!kill 4220' to kill it.)"
      ]
     },
     "metadata": {},
     "output_type": "display_data"
    },
    {
     "data": {
      "text/html": [
       "\n",
       "      <iframe id=\"tensorboard-frame-f8854216bd797912\" width=\"100%\" height=\"800\" frameborder=\"0\">\n",
       "      </iframe>\n",
       "      <script>\n",
       "        (function() {\n",
       "          const frame = document.getElementById(\"tensorboard-frame-f8854216bd797912\");\n",
       "          const url = new URL(\"/\", window.location);\n",
       "          const port = 6008;\n",
       "          if (port) {\n",
       "            url.port = port;\n",
       "          }\n",
       "          frame.src = url;\n",
       "        })();\n",
       "      </script>\n",
       "    "
      ],
      "text/plain": [
       "<IPython.core.display.HTML object>"
      ]
     },
     "metadata": {},
     "output_type": "display_data"
    }
   ],
   "source": [
    "%tensorboard --logdir ./image_logs"
   ]
  },
  {
   "cell_type": "code",
   "execution_count": 100,
   "id": "4e1f83e8-0cb7-4297-a8d6-f7111f2a5766",
   "metadata": {},
   "outputs": [],
   "source": [
    "model.save('fashion_clf.h5')"
   ]
  },
  {
   "cell_type": "code",
   "execution_count": 117,
   "id": "c9b197a5-0c42-4a28-9a20-c04ce88e0336",
   "metadata": {},
   "outputs": [],
   "source": [
    "from sklearn.datasets import fetch_california_housing \n",
    "from sklearn.model_selection import train_test_split \n",
    "from sklearn.preprocessing import StandardScaler\n",
    "housing = fetch_california_housing()"
   ]
  },
  {
   "cell_type": "code",
   "execution_count": 118,
   "id": "1e93534e-1868-4a72-ba4a-5641a9ad5809",
   "metadata": {},
   "outputs": [],
   "source": [
    "X_train_full, X_test, y_train_full, y_test = train_test_split(housing.data, housing.target, random_state=42)\n",
    "X_train, X_valid, y_train, y_valid = train_test_split(X_train_full, y_train_full, random_state=42)"
   ]
  },
  {
   "cell_type": "code",
   "execution_count": 119,
   "id": "a4e6bbec-4469-4095-a05d-21b4f71b85bb",
   "metadata": {},
   "outputs": [],
   "source": [
    "scaler = StandardScaler()\n",
    "X_train = scaler.fit_transform(X_train)\n",
    "X_valid = scaler.transform(X_valid)\n",
    "X_test = scaler.transform(X_test)"
   ]
  },
  {
   "cell_type": "code",
   "execution_count": 123,
   "id": "10400878-c4ff-4e6b-b66d-cc435bb972cd",
   "metadata": {},
   "outputs": [
    {
     "name": "stdout",
     "output_type": "stream",
     "text": [
      "Epoch 1/100\n",
      " 34/363 [=>............................] - ETA: 1s - loss: 2.6058 - accuracy: 0.0037    "
     ]
    },
    {
     "name": "stderr",
     "output_type": "stream",
     "text": [
      "2022-05-26 16:00:10.693915: I tensorflow/core/grappler/optimizers/custom_graph_optimizer_registry.cc:113] Plugin optimizer for device_type GPU is enabled.\n"
     ]
    },
    {
     "name": "stdout",
     "output_type": "stream",
     "text": [
      "358/363 [============================>.] - ETA: 0s - loss: 0.8782 - accuracy: 0.0024"
     ]
    },
    {
     "name": "stderr",
     "output_type": "stream",
     "text": [
      "2022-05-26 16:00:11.914082: I tensorflow/core/grappler/optimizers/custom_graph_optimizer_registry.cc:113] Plugin optimizer for device_type GPU is enabled.\n"
     ]
    },
    {
     "name": "stdout",
     "output_type": "stream",
     "text": [
      "363/363 [==============================] - 2s 4ms/step - loss: 0.8719 - accuracy: 0.0025 - val_loss: 24.5704 - val_accuracy: 0.0044\n",
      "Epoch 2/100\n",
      "363/363 [==============================] - 1s 4ms/step - loss: 0.8446 - accuracy: 0.0028 - val_loss: 10.3260 - val_accuracy: 0.0044\n",
      "Epoch 3/100\n",
      "363/363 [==============================] - 1s 4ms/step - loss: 1.0386 - accuracy: 0.0028 - val_loss: 30.2040 - val_accuracy: 0.0044\n",
      "Epoch 4/100\n",
      "363/363 [==============================] - 1s 4ms/step - loss: nan - accuracy: 8.6133e-05 - val_loss: nan - val_accuracy: 0.0000e+00\n",
      "Epoch 5/100\n",
      "363/363 [==============================] - 1s 4ms/step - loss: nan - accuracy: 0.0000e+00 - val_loss: nan - val_accuracy: 0.0000e+00\n",
      "Epoch 6/100\n",
      "363/363 [==============================] - 1s 4ms/step - loss: nan - accuracy: 0.0000e+00 - val_loss: nan - val_accuracy: 0.0000e+00\n",
      "Epoch 7/100\n",
      "363/363 [==============================] - 1s 4ms/step - loss: nan - accuracy: 0.0000e+00 - val_loss: nan - val_accuracy: 0.0000e+00\n",
      "Epoch 7: early stopping\n"
     ]
    },
    {
     "data": {
      "text/plain": [
       "<keras.callbacks.History at 0x2ac1da460>"
      ]
     },
     "execution_count": 123,
     "metadata": {},
     "output_type": "execute_result"
    }
   ],
   "source": [
    "model = keras.models.Sequential()\n",
    "model.add(keras.layers.Dense(30, activation=\"linear\"))\n",
    "model.add(keras.layers.Dense(1))\n",
    "model.compile(loss=\"MSE\",\n",
    "              optimizer=\"sgd\",\n",
    "              metrics=[\"accuracy\"])\n",
    "\n",
    "es = tf.keras.callbacks.EarlyStopping(patience=5,\n",
    "                                      min_delta=0.01,verbose=1)\n",
    "\n",
    "model.fit(X_train, y_train, validation_data=(X_valid,y_valid), epochs=100,  callbacks=[tensorboard_cb,es]) "
   ]
  },
  {
   "cell_type": "code",
   "execution_count": null,
   "id": "3855c550-65c5-4486-832f-58fbc73f8d1c",
   "metadata": {},
   "outputs": [],
   "source": []
  }
 ],
 "metadata": {
  "kernelspec": {
   "display_name": "Python 3 (ipykernel)",
   "language": "python",
   "name": "python3"
  },
  "language_info": {
   "codemirror_mode": {
    "name": "ipython",
    "version": 3
   },
   "file_extension": ".py",
   "mimetype": "text/x-python",
   "name": "python",
   "nbconvert_exporter": "python",
   "pygments_lexer": "ipython3",
   "version": "3.9.12"
  }
 },
 "nbformat": 4,
 "nbformat_minor": 5
}
