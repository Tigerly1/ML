{
 "cells": [
  {
   "cell_type": "code",
   "execution_count": 1586,
   "id": "d48daffe-c579-4bd2-b4de-f6a1c9ca72bd",
   "metadata": {},
   "outputs": [],
   "source": [
    "from sklearn import datasets\n",
    "data_breast_cancer = datasets.load_breast_cancer(as_frame=True)"
   ]
  },
  {
   "cell_type": "code",
   "execution_count": 1587,
   "id": "e3aeb9b1-337e-4669-8c83-45db88deb15f",
   "metadata": {},
   "outputs": [],
   "source": [
    "data_iris = datasets.load_iris(as_frame=True)"
   ]
  },
  {
   "cell_type": "code",
   "execution_count": 1588,
   "id": "3cdb98ab-4750-4775-9f02-38094cf6125e",
   "metadata": {},
   "outputs": [],
   "source": [
    "X,y = data_breast_cancer[\"data\"][[\"mean area\", \"mean smoothness\"]], data_breast_cancer[\"target\"]"
   ]
  },
  {
   "cell_type": "code",
   "execution_count": 1589,
   "id": "ddb3b2a0",
   "metadata": {
    "pycharm": {
     "name": "#%%\n"
    }
   },
   "outputs": [
    {
     "name": "stdout",
     "output_type": "stream",
     "text": [
      "     mean area  mean smoothness\n",
      "0       1001.0          0.11840\n",
      "1       1326.0          0.08474\n",
      "2       1203.0          0.10960\n",
      "3        386.1          0.14250\n",
      "4       1297.0          0.10030\n",
      "..         ...              ...\n",
      "564     1479.0          0.11100\n",
      "565     1261.0          0.09780\n",
      "566      858.1          0.08455\n",
      "567     1265.0          0.11780\n",
      "568      181.0          0.05263\n",
      "\n",
      "[569 rows x 2 columns]\n"
     ]
    }
   ],
   "source": [
    "print(X)"
   ]
  },
  {
   "cell_type": "code",
   "execution_count": 1590,
   "id": "9f2a5efa-e177-4341-a998-5b793823bd7d",
   "metadata": {},
   "outputs": [],
   "source": [
    "import numpy as np\n",
    "from sklearn.model_selection import train_test_split\n",
    "X_train, X_test, y_train, y_test = train_test_split(X,y,test_size=0.2)"
   ]
  },
  {
   "cell_type": "code",
   "execution_count": 1591,
   "outputs": [
    {
     "name": "stderr",
     "output_type": "stream",
     "text": [
      "C:\\Users\\tiger\\anaconda3\\lib\\site-packages\\sklearn\\svm\\_base.py:985: ConvergenceWarning: Liblinear failed to converge, increase the number of iterations.\n",
      "  warnings.warn(\"Liblinear failed to converge, increase \"\n"
     ]
    },
    {
     "data": {
      "text/plain": "Pipeline(steps=[('scaler', StandardScaler()),\n                ('linear_svc', LinearSVC(loss='hinge', max_iter=696969))])"
     },
     "execution_count": 1591,
     "metadata": {},
     "output_type": "execute_result"
    }
   ],
   "source": [
    "from sklearn import datasets\n",
    "from sklearn.pipeline import Pipeline\n",
    "from sklearn.preprocessing import StandardScaler\n",
    "from sklearn.svm import LinearSVC\n",
    "from sklearn.metrics import accuracy_score\n",
    "lin_svc = LinearSVC(loss=\"hinge\", max_iter=696969)\n",
    "svm_clf = Pipeline([\n",
    "        (\"linear_svc\", lin_svc)])\n",
    "lin_svc = LinearSVC(loss=\"hinge\", max_iter=696969)\n",
    "svm_clf_scaler = Pipeline([\n",
    "        (\"scaler\", StandardScaler()),\n",
    "        (\"linear_svc\", lin_svc)])\n",
    "svm_clf.fit(X_train,y_train)\n",
    "svm_clf_scaler.fit(X_train,y_train)"
   ],
   "metadata": {
    "collapsed": false,
    "pycharm": {
     "name": "#%%\n"
    }
   }
  },
  {
   "cell_type": "code",
   "execution_count": 1592,
   "id": "a431db01-9623-46f7-839c-f750afc09897",
   "metadata": {},
   "outputs": [],
   "source": [
    "a = [svm_clf.score(X_train, y_train), svm_clf.score(X_test, y_test)]"
   ]
  },
  {
   "cell_type": "code",
   "execution_count": 1593,
   "id": "51e796da-191c-4cb0-820e-6b4d16e80eb4",
   "metadata": {},
   "outputs": [],
   "source": [
    "b = [svm_clf_scaler.score(X_train, y_train), svm_clf_scaler.score(X_test, y_test)]"
   ]
  },
  {
   "cell_type": "code",
   "execution_count": 1594,
   "id": "40b92e84-c912-411c-8a44-1bf995e2cb03",
   "metadata": {},
   "outputs": [
    {
     "name": "stdout",
     "output_type": "stream",
     "text": [
      "[0.8681318681318682, 0.8596491228070176, 0.8989010989010989, 0.8859649122807017]\n"
     ]
    }
   ],
   "source": [
    "a += b\n",
    "print(a)"
   ]
  },
  {
   "cell_type": "code",
   "execution_count": 1595,
   "id": "75ca9def-b193-434e-8e5b-0960698c7e02",
   "metadata": {},
   "outputs": [],
   "source": [
    "import pickle\n",
    "pickle.dump(a, open(\"bc_acc.pkl\", \"wb\"))"
   ]
  },
  {
   "cell_type": "code",
   "execution_count": 1596,
   "id": "4e5d0907-d8e4-4112-b8b7-9db9df4ace72",
   "metadata": {},
   "outputs": [],
   "source": [
    "X,y = data_iris[\"data\"], (data_iris[\"target\"]==2).astype(np.int32)"
   ]
  },
  {
   "cell_type": "code",
   "execution_count": 1597,
   "id": "49a8afb4-22c6-4126-a9e9-01596140a7f3",
   "metadata": {},
   "outputs": [],
   "source": [
    "X_train, X_test, y_train, y_test = train_test_split(X,y,test_size=0.2)\n",
    "x_train_props = X_train[['petal length (cm)', 'petal width (cm)']]\n",
    "x_train_props_test = X_test[['petal length (cm)', 'petal width (cm)']]"
   ]
  },
  {
   "cell_type": "code",
   "execution_count": 1598,
   "id": "9abd5b1f-2594-4662-ac6f-3cd8480326a6",
   "metadata": {},
   "outputs": [
    {
     "name": "stderr",
     "output_type": "stream",
     "text": [
      "C:\\Users\\tiger\\anaconda3\\lib\\site-packages\\sklearn\\svm\\_base.py:985: ConvergenceWarning: Liblinear failed to converge, increase the number of iterations.\n",
      "  warnings.warn(\"Liblinear failed to converge, increase \"\n"
     ]
    },
    {
     "data": {
      "text/plain": "Pipeline(steps=[('scaler', StandardScaler()),\n                ('linear_svc', LinearSVC(loss='hinge'))])"
     },
     "execution_count": 1598,
     "metadata": {},
     "output_type": "execute_result"
    }
   ],
   "source": [
    "lin_svc = LinearSVC(loss=\"hinge\")\n",
    "svm_clf_2 = Pipeline([(\"linear_svc\", lin_svc)])\n",
    "lin_svc = LinearSVC(loss=\"hinge\")\n",
    "svm_clf_scaler_2 = Pipeline([(\"scaler\", StandardScaler()),(\"linear_svc\", lin_svc)])\n",
    "svm_clf_2.fit(x_train_props,y_train)\n",
    "svm_clf_scaler_2.fit(x_train_props,y_train)"
   ]
  },
  {
   "cell_type": "code",
   "execution_count": 1599,
   "id": "5a26fc34-edee-4ec2-92c9-d9f1db8c1435",
   "metadata": {},
   "outputs": [
    {
     "data": {
      "text/plain": "[0.9666666666666667, 0.9666666666666667, 0.9416666666666667, 1.0]"
     },
     "execution_count": 1599,
     "metadata": {},
     "output_type": "execute_result"
    }
   ],
   "source": [
    "result = [svm_clf_2.score(x_train_props, y_train), svm_clf_2.score(x_train_props_test, y_test), svm_clf_scaler_2.score(x_train_props, y_train), svm_clf_scaler_2.score(x_train_props_test, y_test)]\n",
    "result"
   ]
  },
  {
   "cell_type": "code",
   "execution_count": 1600,
   "id": "61b66c05-3cbd-442c-8746-327e2e6f3e8a",
   "metadata": {},
   "outputs": [],
   "source": [
    "with open(\"iris_acc.pkl\", \"wb\") as fout:\n",
    "        pickle.dump(result, fout)"
   ]
  },
  {
   "cell_type": "code",
   "execution_count": 1600,
   "id": "4a45f7a6-11c0-420a-ae8a-8b5318ba4b10",
   "metadata": {},
   "outputs": [],
   "source": []
  },
  {
   "cell_type": "code",
   "execution_count": 1600,
   "id": "5111acae-22e3-4bbf-8dd5-37e97016682f",
   "metadata": {},
   "outputs": [],
   "source": []
  }
 ],
 "metadata": {
  "kernelspec": {
   "display_name": "Python 3 (ipykernel)",
   "language": "python",
   "name": "python3"
  },
  "language_info": {
   "codemirror_mode": {
    "name": "ipython",
    "version": 3
   },
   "file_extension": ".py",
   "mimetype": "text/x-python",
   "name": "python",
   "nbconvert_exporter": "python",
   "pygments_lexer": "ipython3",
   "version": "3.9.7"
  }
 },
 "nbformat": 4,
 "nbformat_minor": 5
}